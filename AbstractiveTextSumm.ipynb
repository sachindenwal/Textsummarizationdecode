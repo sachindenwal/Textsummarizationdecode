{
 "cells": [
  {
   "cell_type": "markdown",
   "id": "91e4c045",
   "metadata": {
    "papermill": {
     "duration": 0.013356,
     "end_time": "2022-08-17T21:01:24.374276",
     "exception": false,
     "start_time": "2022-08-17T21:01:24.360920",
     "status": "completed"
    },
    "tags": []
   },
   "source": [
    "## Custom Attention Layer"
   ]
  },
  {
   "cell_type": "code",
   "execution_count": 1,
   "id": "93143286",
   "metadata": {
    "execution": {
     "iopub.execute_input": "2022-08-17T21:01:24.401694Z",
     "iopub.status.busy": "2022-08-17T21:01:24.400964Z",
     "iopub.status.idle": "2022-08-17T21:01:33.387852Z",
     "shell.execute_reply": "2022-08-17T21:01:33.386017Z"
    },
    "papermill": {
     "duration": 9.005477,
     "end_time": "2022-08-17T21:01:33.391905",
     "exception": false,
     "start_time": "2022-08-17T21:01:24.386428",
     "status": "completed"
    },
    "tags": []
   },
   "outputs": [],
   "source": [
    "import sys\n",
    "sys.path.insert(1, \"../input/attention\")\n",
    "import attention"
   ]
  },
  {
   "cell_type": "markdown",
   "id": "2a28f640",
   "metadata": {
    "papermill": {
     "duration": 0.012547,
     "end_time": "2022-08-17T21:01:33.417756",
     "exception": false,
     "start_time": "2022-08-17T21:01:33.405209",
     "status": "completed"
    },
    "tags": []
   },
   "source": [
    "## Import the Libraries"
   ]
  },
  {
   "cell_type": "code",
   "execution_count": 2,
   "id": "58ebe8d5",
   "metadata": {
    "execution": {
     "iopub.execute_input": "2022-08-17T21:01:33.447465Z",
     "iopub.status.busy": "2022-08-17T21:01:33.446366Z",
     "iopub.status.idle": "2022-08-17T21:01:33.452688Z",
     "shell.execute_reply": "2022-08-17T21:01:33.450971Z"
    },
    "papermill": {
     "duration": 0.024918,
     "end_time": "2022-08-17T21:01:33.456950",
     "exception": false,
     "start_time": "2022-08-17T21:01:33.432032",
     "status": "completed"
    },
    "tags": []
   },
   "outputs": [],
   "source": [
    "from attention import AttentionLayer\n",
    "# from tensorflow.keras.layers import Attention\n"
   ]
  },
  {
   "cell_type": "code",
   "execution_count": 3,
   "id": "944ff94f",
   "metadata": {
    "execution": {
     "iopub.execute_input": "2022-08-17T21:01:33.482642Z",
     "iopub.status.busy": "2022-08-17T21:01:33.482177Z",
     "iopub.status.idle": "2022-08-17T21:01:35.742274Z",
     "shell.execute_reply": "2022-08-17T21:01:35.740315Z"
    },
    "papermill": {
     "duration": 2.278253,
     "end_time": "2022-08-17T21:01:35.747258",
     "exception": false,
     "start_time": "2022-08-17T21:01:33.469005",
     "status": "completed"
    },
    "tags": []
   },
   "outputs": [],
   "source": [
    "import numpy as np  \n",
    "import pandas as pd \n",
    "import re           \n",
    "from bs4 import BeautifulSoup \n",
    "from keras.preprocessing.text import Tokenizer \n",
    "from keras.preprocessing.sequence import pad_sequences\n",
    "from nltk.corpus import stopwords   \n",
    "from tensorflow.keras.layers import Input, LSTM, Embedding, Dense, Concatenate, TimeDistributed, Bidirectional\n",
    "from tensorflow.keras.models import Model\n",
    "from tensorflow.keras.callbacks import EarlyStopping\n",
    "import warnings\n",
    "pd.set_option(\"display.max_colwidth\", 200)\n",
    "warnings.filterwarnings(\"ignore\")"
   ]
  },
  {
   "cell_type": "code",
   "execution_count": 4,
   "id": "bf5881c8",
   "metadata": {
    "execution": {
     "iopub.execute_input": "2022-08-17T21:01:35.776444Z",
     "iopub.status.busy": "2022-08-17T21:01:35.775981Z",
     "iopub.status.idle": "2022-08-17T21:01:37.834482Z",
     "shell.execute_reply": "2022-08-17T21:01:37.832777Z"
    },
    "papermill": {
     "duration": 2.07663,
     "end_time": "2022-08-17T21:01:37.837576",
     "exception": false,
     "start_time": "2022-08-17T21:01:35.760946",
     "status": "completed"
    },
    "tags": []
   },
   "outputs": [],
   "source": [
    "#Read the dataset\n",
    "data=pd.read_csv(\"../input/amazon-fine-food-reviews/Reviews.csv\",nrows=100000)"
   ]
  },
  {
   "cell_type": "code",
   "execution_count": 5,
   "id": "1da65499",
   "metadata": {
    "execution": {
     "iopub.execute_input": "2022-08-17T21:01:37.861472Z",
     "iopub.status.busy": "2022-08-17T21:01:37.861045Z",
     "iopub.status.idle": "2022-08-17T21:01:38.125124Z",
     "shell.execute_reply": "2022-08-17T21:01:38.123108Z"
    },
    "papermill": {
     "duration": 0.280696,
     "end_time": "2022-08-17T21:01:38.129170",
     "exception": false,
     "start_time": "2022-08-17T21:01:37.848474",
     "status": "completed"
    },
    "tags": []
   },
   "outputs": [],
   "source": [
    "#Drop Duplicates and NA values\n",
    "data.drop_duplicates(subset=['Text'],inplace=True)  #dropping duplicates\n",
    "data.dropna(axis=0,inplace=True)   #dropping na"
   ]
  },
  {
   "cell_type": "markdown",
   "id": "faffd593",
   "metadata": {
    "papermill": {
     "duration": 0.012003,
     "end_time": "2022-08-17T21:01:38.152452",
     "exception": false,
     "start_time": "2022-08-17T21:01:38.140449",
     "status": "completed"
    },
    "tags": []
   },
   "source": [
    "## Preprocessing"
   ]
  },
  {
   "cell_type": "code",
   "execution_count": 6,
   "id": "f6a928de",
   "metadata": {
    "execution": {
     "iopub.execute_input": "2022-08-17T21:01:38.179279Z",
     "iopub.status.busy": "2022-08-17T21:01:38.178832Z",
     "iopub.status.idle": "2022-08-17T21:01:38.237859Z",
     "shell.execute_reply": "2022-08-17T21:01:38.236403Z"
    },
    "papermill": {
     "duration": 0.077489,
     "end_time": "2022-08-17T21:01:38.241959",
     "exception": false,
     "start_time": "2022-08-17T21:01:38.164470",
     "status": "completed"
    },
    "tags": []
   },
   "outputs": [
    {
     "name": "stdout",
     "output_type": "stream",
     "text": [
      "<class 'pandas.core.frame.DataFrame'>\n",
      "Int64Index: 88421 entries, 0 to 99999\n",
      "Data columns (total 10 columns):\n",
      " #   Column                  Non-Null Count  Dtype \n",
      "---  ------                  --------------  ----- \n",
      " 0   Id                      88421 non-null  int64 \n",
      " 1   ProductId               88421 non-null  object\n",
      " 2   UserId                  88421 non-null  object\n",
      " 3   ProfileName             88421 non-null  object\n",
      " 4   HelpfulnessNumerator    88421 non-null  int64 \n",
      " 5   HelpfulnessDenominator  88421 non-null  int64 \n",
      " 6   Score                   88421 non-null  int64 \n",
      " 7   Time                    88421 non-null  int64 \n",
      " 8   Summary                 88421 non-null  object\n",
      " 9   Text                    88421 non-null  object\n",
      "dtypes: int64(5), object(5)\n",
      "memory usage: 7.4+ MB\n"
     ]
    }
   ],
   "source": [
    "data.info()"
   ]
  },
  {
   "cell_type": "code",
   "execution_count": 7,
   "id": "19ca204d",
   "metadata": {
    "execution": {
     "iopub.execute_input": "2022-08-17T21:01:38.271422Z",
     "iopub.status.busy": "2022-08-17T21:01:38.270900Z",
     "iopub.status.idle": "2022-08-17T21:01:38.290036Z",
     "shell.execute_reply": "2022-08-17T21:01:38.288375Z"
    },
    "papermill": {
     "duration": 0.038095,
     "end_time": "2022-08-17T21:01:38.292935",
     "exception": false,
     "start_time": "2022-08-17T21:01:38.254840",
     "status": "completed"
    },
    "tags": []
   },
   "outputs": [],
   "source": [
    "contraction_mapping = {\"ain't\": \"is not\", \"aren't\": \"are not\",\"can't\": \"cannot\", \"'cause\": \"because\", \"could've\": \"could have\", \"couldn't\": \"could not\",\n",
    "\n",
    "                           \"didn't\": \"did not\", \"doesn't\": \"does not\", \"don't\": \"do not\", \"hadn't\": \"had not\", \"hasn't\": \"has not\", \"haven't\": \"have not\",\n",
    "\n",
    "                           \"he'd\": \"he would\",\"he'll\": \"he will\", \"he's\": \"he is\", \"how'd\": \"how did\", \"how'd'y\": \"how do you\", \"how'll\": \"how will\", \"how's\": \"how is\",\n",
    "\n",
    "                           \"I'd\": \"I would\", \"I'd've\": \"I would have\", \"I'll\": \"I will\", \"I'll've\": \"I will have\",\"I'm\": \"I am\", \"I've\": \"I have\", \"i'd\": \"i would\",\n",
    "\n",
    "                           \"i'd've\": \"i would have\", \"i'll\": \"i will\",  \"i'll've\": \"i will have\",\"i'm\": \"i am\", \"i've\": \"i have\", \"isn't\": \"is not\", \"it'd\": \"it would\",\n",
    "\n",
    "                           \"it'd've\": \"it would have\", \"it'll\": \"it will\", \"it'll've\": \"it will have\",\"it's\": \"it is\", \"let's\": \"let us\", \"ma'am\": \"madam\",\n",
    "\n",
    "                           \"mayn't\": \"may not\", \"might've\": \"might have\",\"mightn't\": \"might not\",\"mightn't've\": \"might not have\", \"must've\": \"must have\",\n",
    "\n",
    "                           \"mustn't\": \"must not\", \"mustn't've\": \"must not have\", \"needn't\": \"need not\", \"needn't've\": \"need not have\",\"o'clock\": \"of the clock\",\n",
    "\n",
    "                           \"oughtn't\": \"ought not\", \"oughtn't've\": \"ought not have\", \"shan't\": \"shall not\", \"sha'n't\": \"shall not\", \"shan't've\": \"shall not have\",\n",
    "\n",
    "                           \"she'd\": \"she would\", \"she'd've\": \"she would have\", \"she'll\": \"she will\", \"she'll've\": \"she will have\", \"she's\": \"she is\",\n",
    "\n",
    "                           \"should've\": \"should have\", \"shouldn't\": \"should not\", \"shouldn't've\": \"should not have\", \"so've\": \"so have\",\"so's\": \"so as\",\n",
    "\n",
    "                           \"this's\": \"this is\",\"that'd\": \"that would\", \"that'd've\": \"that would have\", \"that's\": \"that is\", \"there'd\": \"there would\",\n",
    "\n",
    "                           \"there'd've\": \"there would have\", \"there's\": \"there is\", \"here's\": \"here is\",\"they'd\": \"they would\", \"they'd've\": \"they would have\",\n",
    "\n",
    "                           \"they'll\": \"they will\", \"they'll've\": \"they will have\", \"they're\": \"they are\", \"they've\": \"they have\", \"to've\": \"to have\",\n",
    "\n",
    "                           \"wasn't\": \"was not\", \"we'd\": \"we would\", \"we'd've\": \"we would have\", \"we'll\": \"we will\", \"we'll've\": \"we will have\", \"we're\": \"we are\",\n",
    "\n",
    "                           \"we've\": \"we have\", \"weren't\": \"were not\", \"what'll\": \"what will\", \"what'll've\": \"what will have\", \"what're\": \"what are\",\n",
    "\n",
    "                           \"what's\": \"what is\", \"what've\": \"what have\", \"when's\": \"when is\", \"when've\": \"when have\", \"where'd\": \"where did\", \"where's\": \"where is\",\n",
    "\n",
    "                           \"where've\": \"where have\", \"who'll\": \"who will\", \"who'll've\": \"who will have\", \"who's\": \"who is\", \"who've\": \"who have\",\n",
    "\n",
    "                           \"why's\": \"why is\", \"why've\": \"why have\", \"will've\": \"will have\", \"won't\": \"will not\", \"won't've\": \"will not have\",\n",
    "\n",
    "                           \"would've\": \"would have\", \"wouldn't\": \"would not\", \"wouldn't've\": \"would not have\", \"y'all\": \"you all\",\n",
    "\n",
    "                           \"y'all'd\": \"you all would\",\"y'all'd've\": \"you all would have\",\"y'all're\": \"you all are\",\"y'all've\": \"you all have\",\n",
    "\n",
    "                           \"you'd\": \"you would\", \"you'd've\": \"you would have\", \"you'll\": \"you will\", \"you'll've\": \"you will have\",\n",
    "\n",
    "                           \"you're\": \"you are\", \"you've\": \"you have\"}\n"
   ]
  },
  {
   "cell_type": "code",
   "execution_count": 8,
   "id": "f7b75790",
   "metadata": {
    "execution": {
     "iopub.execute_input": "2022-08-17T21:01:38.322023Z",
     "iopub.status.busy": "2022-08-17T21:01:38.321429Z",
     "iopub.status.idle": "2022-08-17T21:01:38.342361Z",
     "shell.execute_reply": "2022-08-17T21:01:38.341141Z"
    },
    "papermill": {
     "duration": 0.040115,
     "end_time": "2022-08-17T21:01:38.346400",
     "exception": false,
     "start_time": "2022-08-17T21:01:38.306285",
     "status": "completed"
    },
    "tags": []
   },
   "outputs": [],
   "source": [
    "stop_words = set(stopwords.words('english')) \n",
    "\n",
    "def text_cleaner(text,num):\n",
    "    newString = text.lower()\n",
    "    newString = BeautifulSoup(newString, \"lxml\").text\n",
    "    newString = re.sub(r'\\([^)]*\\)', '', newString)\n",
    "    newString = re.sub('\"','', newString)\n",
    "    newString = ' '.join([contraction_mapping[t] if t in contraction_mapping else t for t in newString.split(\" \")])    \n",
    "    newString = re.sub(r\"'s\\b\",\"\",newString)\n",
    "    newString = re.sub(\"[^a-zA-Z]\", \" \", newString) \n",
    "    newString = re.sub('[m]{2,}', 'mm', newString)\n",
    "    if(num==0):\n",
    "        tokens = [w for w in newString.split() if not w in stop_words]\n",
    "    else:\n",
    "        tokens=newString.split()\n",
    "    long_words=[]\n",
    "    for i in tokens:\n",
    "        if len(i)>1:                                                 #removing short word\n",
    "            long_words.append(i)   \n",
    "    return (\" \".join(long_words)).strip()"
   ]
  },
  {
   "cell_type": "code",
   "execution_count": 9,
   "id": "c5a89ee5",
   "metadata": {
    "execution": {
     "iopub.execute_input": "2022-08-17T21:01:38.371979Z",
     "iopub.status.busy": "2022-08-17T21:01:38.371512Z",
     "iopub.status.idle": "2022-08-17T21:02:16.350827Z",
     "shell.execute_reply": "2022-08-17T21:02:16.349219Z"
    },
    "papermill": {
     "duration": 37.995026,
     "end_time": "2022-08-17T21:02:16.353903",
     "exception": false,
     "start_time": "2022-08-17T21:01:38.358877",
     "status": "completed"
    },
    "tags": []
   },
   "outputs": [],
   "source": [
    "#call the function\n",
    "cleaned_text = []\n",
    "for t in data['Text']:\n",
    "    cleaned_text.append(text_cleaner(t,0)) "
   ]
  },
  {
   "cell_type": "code",
   "execution_count": 10,
   "id": "457c42a4",
   "metadata": {
    "execution": {
     "iopub.execute_input": "2022-08-17T21:02:16.379937Z",
     "iopub.status.busy": "2022-08-17T21:02:16.378819Z",
     "iopub.status.idle": "2022-08-17T21:02:16.393180Z",
     "shell.execute_reply": "2022-08-17T21:02:16.391794Z"
    },
    "papermill": {
     "duration": 0.031239,
     "end_time": "2022-08-17T21:02:16.396477",
     "exception": false,
     "start_time": "2022-08-17T21:02:16.365238",
     "status": "completed"
    },
    "tags": []
   },
   "outputs": [
    {
     "data": {
      "text/plain": [
       "['bought several vitality canned dog food products found good quality product looks like stew processed meat smells better labrador finicky appreciates product better',\n",
       " 'product arrived labeled jumbo salted peanuts peanuts actually small sized unsalted sure error vendor intended represent product jumbo',\n",
       " 'confection around centuries light pillowy citrus gelatin nuts case filberts cut tiny squares liberally coated powdered sugar tiny mouthful heaven chewy flavorful highly recommend yummy treat familiar story lewis lion witch wardrobe treat seduces edmund selling brother sisters witch',\n",
       " 'looking secret ingredient robitussin believe found got addition root beer extract ordered made cherry soda flavor medicinal',\n",
       " 'great taffy great price wide assortment yummy taffy delivery quick taffy lover deal']"
      ]
     },
     "execution_count": 10,
     "metadata": {},
     "output_type": "execute_result"
    }
   ],
   "source": [
    "cleaned_text[:5]  "
   ]
  },
  {
   "cell_type": "code",
   "execution_count": 11,
   "id": "0e989811",
   "metadata": {
    "execution": {
     "iopub.execute_input": "2022-08-17T21:02:16.429125Z",
     "iopub.status.busy": "2022-08-17T21:02:16.428002Z",
     "iopub.status.idle": "2022-08-17T21:02:41.030210Z",
     "shell.execute_reply": "2022-08-17T21:02:41.028730Z"
    },
    "papermill": {
     "duration": 24.621622,
     "end_time": "2022-08-17T21:02:41.033914",
     "exception": false,
     "start_time": "2022-08-17T21:02:16.412292",
     "status": "completed"
    },
    "tags": []
   },
   "outputs": [],
   "source": [
    "#call the function\n",
    "cleaned_summary = []\n",
    "for t in data['Summary']:\n",
    "    cleaned_summary.append(text_cleaner(t,1))"
   ]
  },
  {
   "cell_type": "code",
   "execution_count": 12,
   "id": "fe488302",
   "metadata": {
    "execution": {
     "iopub.execute_input": "2022-08-17T21:02:41.062184Z",
     "iopub.status.busy": "2022-08-17T21:02:41.061636Z",
     "iopub.status.idle": "2022-08-17T21:02:41.071942Z",
     "shell.execute_reply": "2022-08-17T21:02:41.070178Z"
    },
    "papermill": {
     "duration": 0.028423,
     "end_time": "2022-08-17T21:02:41.075169",
     "exception": false,
     "start_time": "2022-08-17T21:02:41.046746",
     "status": "completed"
    },
    "tags": []
   },
   "outputs": [
    {
     "data": {
      "text/plain": [
       "['good quality dog food',\n",
       " 'not as advertised',\n",
       " 'delight says it all',\n",
       " 'cough medicine',\n",
       " 'great taffy',\n",
       " 'nice taffy',\n",
       " 'great just as good as the expensive brands',\n",
       " 'wonderful tasty taffy',\n",
       " 'yay barley',\n",
       " 'healthy dog food']"
      ]
     },
     "execution_count": 12,
     "metadata": {},
     "output_type": "execute_result"
    }
   ],
   "source": [
    "cleaned_summary[:10]"
   ]
  },
  {
   "cell_type": "code",
   "execution_count": 13,
   "id": "50f703b7",
   "metadata": {
    "execution": {
     "iopub.execute_input": "2022-08-17T21:02:41.101620Z",
     "iopub.status.busy": "2022-08-17T21:02:41.101155Z",
     "iopub.status.idle": "2022-08-17T21:02:41.151065Z",
     "shell.execute_reply": "2022-08-17T21:02:41.149359Z"
    },
    "papermill": {
     "duration": 0.066711,
     "end_time": "2022-08-17T21:02:41.154307",
     "exception": false,
     "start_time": "2022-08-17T21:02:41.087596",
     "status": "completed"
    },
    "tags": []
   },
   "outputs": [],
   "source": [
    "data['cleaned_text']=cleaned_text\n",
    "data['cleaned_summary']=cleaned_summary"
   ]
  },
  {
   "cell_type": "code",
   "execution_count": 14,
   "id": "ca290703",
   "metadata": {
    "execution": {
     "iopub.execute_input": "2022-08-17T21:02:41.181172Z",
     "iopub.status.busy": "2022-08-17T21:02:41.180635Z",
     "iopub.status.idle": "2022-08-17T21:02:41.415395Z",
     "shell.execute_reply": "2022-08-17T21:02:41.414015Z"
    },
    "papermill": {
     "duration": 0.251459,
     "end_time": "2022-08-17T21:02:41.418542",
     "exception": false,
     "start_time": "2022-08-17T21:02:41.167083",
     "status": "completed"
    },
    "tags": []
   },
   "outputs": [],
   "source": [
    "data.replace('', np.nan, inplace=True)\n",
    "data.dropna(axis=0,inplace=True)"
   ]
  },
  {
   "cell_type": "code",
   "execution_count": 15,
   "id": "08180a09",
   "metadata": {
    "execution": {
     "iopub.execute_input": "2022-08-17T21:02:41.444356Z",
     "iopub.status.busy": "2022-08-17T21:02:41.443935Z",
     "iopub.status.idle": "2022-08-17T21:02:42.328313Z",
     "shell.execute_reply": "2022-08-17T21:02:42.327014Z"
    },
    "papermill": {
     "duration": 0.900999,
     "end_time": "2022-08-17T21:02:42.331126",
     "exception": false,
     "start_time": "2022-08-17T21:02:41.430127",
     "status": "completed"
    },
    "tags": []
   },
   "outputs": [
    {
     "data": {
      "image/png": "[encoded data removed]",
      "text/plain": [
       "<Figure size 432x288 with 2 Axes>"
      ]
     },
     "metadata": {
      "needs_background": "light"
     },
     "output_type": "display_data"
    }
   ],
   "source": [
    "import matplotlib.pyplot as plt\n",
    "\n",
    "text_word_count = []\n",
    "summary_word_count = []\n",
    "\n",
    "# populate the lists with sentence lengths\n",
    "for i in data['cleaned_text']:\n",
    "      text_word_count.append(len(i.split()))\n",
    "\n",
    "for i in data['cleaned_summary']:\n",
    "      summary_word_count.append(len(i.split()))\n",
    "\n",
    "length_df = pd.DataFrame({'text':text_word_count, 'summary':summary_word_count})\n",
    "\n",
    "length_df.hist(bins = 30)\n",
    "plt.show()\n"
   ]
  },
  {
   "cell_type": "code",
   "execution_count": 16,
   "id": "2bb5d8f0",
   "metadata": {
    "execution": {
     "iopub.execute_input": "2022-08-17T21:02:42.359324Z",
     "iopub.status.busy": "2022-08-17T21:02:42.358884Z",
     "iopub.status.idle": "2022-08-17T21:02:42.437783Z",
     "shell.execute_reply": "2022-08-17T21:02:42.436052Z"
    },
    "papermill": {
     "duration": 0.096299,
     "end_time": "2022-08-17T21:02:42.440806",
     "exception": false,
     "start_time": "2022-08-17T21:02:42.344507",
     "status": "completed"
    },
    "tags": []
   },
   "outputs": [
    {
     "name": "stdout",
     "output_type": "stream",
     "text": [
      "0.9424907471335922\n"
     ]
    }
   ],
   "source": [
    "cnt=0\n",
    "for i in data['cleaned_summary']:\n",
    "    if(len(i.split())<=8):\n",
    "        cnt=cnt+1\n",
    "print(cnt/len(data['cleaned_summary']))"
   ]
  },
  {
   "cell_type": "code",
   "execution_count": 17,
   "id": "c5d6d0f2",
   "metadata": {
    "execution": {
     "iopub.execute_input": "2022-08-17T21:02:42.469243Z",
     "iopub.status.busy": "2022-08-17T21:02:42.468772Z",
     "iopub.status.idle": "2022-08-17T21:02:42.475414Z",
     "shell.execute_reply": "2022-08-17T21:02:42.473107Z"
    },
    "papermill": {
     "duration": 0.025365,
     "end_time": "2022-08-17T21:02:42.478916",
     "exception": false,
     "start_time": "2022-08-17T21:02:42.453551",
     "status": "completed"
    },
    "tags": []
   },
   "outputs": [],
   "source": [
    "max_text_len=30\n",
    "max_summary_len=8"
   ]
  },
  {
   "cell_type": "code",
   "execution_count": 18,
   "id": "336ff8bd",
   "metadata": {
    "execution": {
     "iopub.execute_input": "2022-08-17T21:02:42.508414Z",
     "iopub.status.busy": "2022-08-17T21:02:42.507931Z",
     "iopub.status.idle": "2022-08-17T21:02:42.864549Z",
     "shell.execute_reply": "2022-08-17T21:02:42.863544Z"
    },
    "papermill": {
     "duration": 0.374961,
     "end_time": "2022-08-17T21:02:42.868024",
     "exception": false,
     "start_time": "2022-08-17T21:02:42.493063",
     "status": "completed"
    },
    "tags": []
   },
   "outputs": [],
   "source": [
    "cleaned_text =np.array(data['cleaned_text'])\n",
    "cleaned_summary=np.array(data['cleaned_summary'])\n",
    "\n",
    "short_text=[]\n",
    "short_summary=[]\n",
    "\n",
    "for i in range(len(cleaned_text)):\n",
    "    if(len(cleaned_summary[i].split())<=max_summary_len and len(cleaned_text[i].split())<=max_text_len):\n",
    "        short_text.append(cleaned_text[i])\n",
    "        short_summary.append(cleaned_summary[i])\n",
    "        \n",
    "df=pd.DataFrame({'text':short_text,'summary':short_summary})"
   ]
  },
  {
   "cell_type": "code",
   "execution_count": 19,
   "id": "5f63dd45",
   "metadata": {
    "execution": {
     "iopub.execute_input": "2022-08-17T21:02:42.897734Z",
     "iopub.status.busy": "2022-08-17T21:02:42.896449Z",
     "iopub.status.idle": "2022-08-17T21:02:42.930112Z",
     "shell.execute_reply": "2022-08-17T21:02:42.928297Z"
    },
    "papermill": {
     "duration": 0.05146,
     "end_time": "2022-08-17T21:02:42.933657",
     "exception": false,
     "start_time": "2022-08-17T21:02:42.882197",
     "status": "completed"
    },
    "tags": []
   },
   "outputs": [],
   "source": [
    "df['summary'] = df['summary'].apply(lambda x : 'sostok '+ x + ' eostok')"
   ]
  },
  {
   "cell_type": "code",
   "execution_count": 20,
   "id": "cd332767",
   "metadata": {
    "execution": {
     "iopub.execute_input": "2022-08-17T21:02:42.961161Z",
     "iopub.status.busy": "2022-08-17T21:02:42.960748Z",
     "iopub.status.idle": "2022-08-17T21:02:42.982676Z",
     "shell.execute_reply": "2022-08-17T21:02:42.981022Z"
    },
    "papermill": {
     "duration": 0.039567,
     "end_time": "2022-08-17T21:02:42.985826",
     "exception": false,
     "start_time": "2022-08-17T21:02:42.946259",
     "status": "completed"
    },
    "tags": []
   },
   "outputs": [],
   "source": [
    "from sklearn.model_selection import train_test_split\n",
    "x_tr,x_val,y_tr,y_val=train_test_split(np.array(df['text']),np.array(df['summary']),test_size=0.1,random_state=0,shuffle=True) "
   ]
  },
  {
   "cell_type": "code",
   "execution_count": 21,
   "id": "651a777c",
   "metadata": {
    "execution": {
     "iopub.execute_input": "2022-08-17T21:02:43.011314Z",
     "iopub.status.busy": "2022-08-17T21:02:43.010888Z",
     "iopub.status.idle": "2022-08-17T21:02:44.657585Z",
     "shell.execute_reply": "2022-08-17T21:02:44.655449Z"
    },
    "papermill": {
     "duration": 1.664343,
     "end_time": "2022-08-17T21:02:44.662030",
     "exception": false,
     "start_time": "2022-08-17T21:02:42.997687",
     "status": "completed"
    },
    "tags": []
   },
   "outputs": [],
   "source": [
    "from keras.preprocessing.text import Tokenizer \n",
    "from keras.preprocessing.sequence import pad_sequences\n",
    "\n",
    "#prepare a tokenizer for reviews on training data\n",
    "x_tokenizer = Tokenizer() \n",
    "x_tokenizer.fit_on_texts(list(x_tr))"
   ]
  },
  {
   "cell_type": "code",
   "execution_count": 22,
   "id": "79bc2482",
   "metadata": {
    "execution": {
     "iopub.execute_input": "2022-08-17T21:02:44.690095Z",
     "iopub.status.busy": "2022-08-17T21:02:44.689635Z",
     "iopub.status.idle": "2022-08-17T21:02:44.717665Z",
     "shell.execute_reply": "2022-08-17T21:02:44.715584Z"
    },
    "papermill": {
     "duration": 0.044767,
     "end_time": "2022-08-17T21:02:44.720219",
     "exception": false,
     "start_time": "2022-08-17T21:02:44.675452",
     "status": "completed"
    },
    "tags": []
   },
   "outputs": [
    {
     "name": "stdout",
     "output_type": "stream",
     "text": [
      "% of rare words in vocabulary: 66.12339930151339\n",
      "Total Coverage of rare words: 2.953684513790566\n"
     ]
    }
   ],
   "source": [
    "thresh=4\n",
    "\n",
    "cnt=0\n",
    "tot_cnt=0\n",
    "freq=0\n",
    "tot_freq=0\n",
    "\n",
    "for key,value in x_tokenizer.word_counts.items():\n",
    "    tot_cnt=tot_cnt+1\n",
    "    tot_freq=tot_freq+value\n",
    "    if(value<thresh):\n",
    "        cnt=cnt+1\n",
    "        freq=freq+value\n",
    "    \n",
    "print(\"% of rare words in vocabulary:\",(cnt/tot_cnt)*100)\n",
    "print(\"Total Coverage of rare words:\",(freq/tot_freq)*100)"
   ]
  },
  {
   "cell_type": "markdown",
   "id": "cbafbb96",
   "metadata": {
    "papermill": {
     "duration": 0.011793,
     "end_time": "2022-08-17T21:02:44.744449",
     "exception": false,
     "start_time": "2022-08-17T21:02:44.732656",
     "status": "completed"
    },
    "tags": []
   },
   "source": [
    "## Tokenization"
   ]
  },
  {
   "cell_type": "code",
   "execution_count": 23,
   "id": "8fc5dedd",
   "metadata": {
    "execution": {
     "iopub.execute_input": "2022-08-17T21:02:44.772016Z",
     "iopub.status.busy": "2022-08-17T21:02:44.771409Z",
     "iopub.status.idle": "2022-08-17T21:02:47.236173Z",
     "shell.execute_reply": "2022-08-17T21:02:47.234862Z"
    },
    "papermill": {
     "duration": 2.482045,
     "end_time": "2022-08-17T21:02:47.239291",
     "exception": false,
     "start_time": "2022-08-17T21:02:44.757246",
     "status": "completed"
    },
    "tags": []
   },
   "outputs": [],
   "source": [
    "#prepare a tokenizer for reviews on training data\n",
    "x_tokenizer = Tokenizer(num_words=tot_cnt-cnt) \n",
    "x_tokenizer.fit_on_texts(list(x_tr))\n",
    "\n",
    "#convert text sequences into integer sequences\n",
    "x_tr_seq    =   x_tokenizer.texts_to_sequences(x_tr) \n",
    "x_val_seq   =   x_tokenizer.texts_to_sequences(x_val)\n",
    "\n",
    "#padding zero upto maximum length\n",
    "x_tr    =   pad_sequences(x_tr_seq,  maxlen=max_text_len, padding='post')\n",
    "x_val   =   pad_sequences(x_val_seq, maxlen=max_text_len, padding='post')\n",
    "\n",
    "#size of vocabulary ( +1 for padding token)\n",
    "x_voc   =  x_tokenizer.num_words + 1"
   ]
  },
  {
   "cell_type": "code",
   "execution_count": 24,
   "id": "a81f25cb",
   "metadata": {
    "execution": {
     "iopub.execute_input": "2022-08-17T21:02:47.265968Z",
     "iopub.status.busy": "2022-08-17T21:02:47.265426Z",
     "iopub.status.idle": "2022-08-17T21:02:47.872155Z",
     "shell.execute_reply": "2022-08-17T21:02:47.870649Z"
    },
    "papermill": {
     "duration": 0.623614,
     "end_time": "2022-08-17T21:02:47.875874",
     "exception": false,
     "start_time": "2022-08-17T21:02:47.252260",
     "status": "completed"
    },
    "tags": []
   },
   "outputs": [],
   "source": [
    "#prepare a tokenizer for reviews on training data\n",
    "y_tokenizer = Tokenizer()   \n",
    "y_tokenizer.fit_on_texts(list(y_tr))"
   ]
  },
  {
   "cell_type": "code",
   "execution_count": 25,
   "id": "8af238ef",
   "metadata": {
    "execution": {
     "iopub.execute_input": "2022-08-17T21:02:47.904750Z",
     "iopub.status.busy": "2022-08-17T21:02:47.904276Z",
     "iopub.status.idle": "2022-08-17T21:02:47.919509Z",
     "shell.execute_reply": "2022-08-17T21:02:47.917990Z"
    },
    "papermill": {
     "duration": 0.032131,
     "end_time": "2022-08-17T21:02:47.922240",
     "exception": false,
     "start_time": "2022-08-17T21:02:47.890109",
     "status": "completed"
    },
    "tags": []
   },
   "outputs": [
    {
     "name": "stdout",
     "output_type": "stream",
     "text": [
      "% of rare words in vocabulary: 78.12740675541863\n",
      "Total Coverage of rare words: 5.3921899389571895\n"
     ]
    }
   ],
   "source": [
    "thresh=6\n",
    "\n",
    "cnt=0\n",
    "tot_cnt=0\n",
    "freq=0\n",
    "tot_freq=0\n",
    "\n",
    "for key,value in y_tokenizer.word_counts.items():\n",
    "    tot_cnt=tot_cnt+1\n",
    "    tot_freq=tot_freq+value\n",
    "    if(value<thresh):\n",
    "        cnt=cnt+1\n",
    "        freq=freq+value\n",
    "    \n",
    "print(\"% of rare words in vocabulary:\",(cnt/tot_cnt)*100)\n",
    "print(\"Total Coverage of rare words:\",(freq/tot_freq)*100)"
   ]
  },
  {
   "cell_type": "code",
   "execution_count": 26,
   "id": "d8d66d76",
   "metadata": {
    "execution": {
     "iopub.execute_input": "2022-08-17T21:02:47.949964Z",
     "iopub.status.busy": "2022-08-17T21:02:47.949118Z",
     "iopub.status.idle": "2022-08-17T21:02:49.232228Z",
     "shell.execute_reply": "2022-08-17T21:02:49.230651Z"
    },
    "papermill": {
     "duration": 1.301321,
     "end_time": "2022-08-17T21:02:49.235676",
     "exception": false,
     "start_time": "2022-08-17T21:02:47.934355",
     "status": "completed"
    },
    "tags": []
   },
   "outputs": [],
   "source": [
    "#prepare a tokenizer for reviews on training data\n",
    "y_tokenizer = Tokenizer(num_words=tot_cnt-cnt) \n",
    "y_tokenizer.fit_on_texts(list(y_tr))\n",
    "\n",
    "#convert text sequences into integer sequences\n",
    "y_tr_seq    =   y_tokenizer.texts_to_sequences(y_tr) \n",
    "y_val_seq   =   y_tokenizer.texts_to_sequences(y_val) \n",
    "\n",
    "#padding zero upto maximum length\n",
    "y_tr    =   pad_sequences(y_tr_seq, maxlen=max_summary_len, padding='post')\n",
    "y_val   =   pad_sequences(y_val_seq, maxlen=max_summary_len, padding='post')\n",
    "\n",
    "#size of vocabulary\n",
    "y_voc  =   y_tokenizer.num_words +1"
   ]
  },
  {
   "cell_type": "code",
   "execution_count": 27,
   "id": "652efd5e",
   "metadata": {
    "execution": {
     "iopub.execute_input": "2022-08-17T21:02:49.265049Z",
     "iopub.status.busy": "2022-08-17T21:02:49.264051Z",
     "iopub.status.idle": "2022-08-17T21:02:49.273194Z",
     "shell.execute_reply": "2022-08-17T21:02:49.271926Z"
    },
    "papermill": {
     "duration": 0.026908,
     "end_time": "2022-08-17T21:02:49.275802",
     "exception": false,
     "start_time": "2022-08-17T21:02:49.248894",
     "status": "completed"
    },
    "tags": []
   },
   "outputs": [
    {
     "data": {
      "text/plain": [
       "(42453, 42453)"
      ]
     },
     "execution_count": 27,
     "metadata": {},
     "output_type": "execute_result"
    }
   ],
   "source": [
    "y_tokenizer.word_counts['sostok'],len(y_tr) "
   ]
  },
  {
   "cell_type": "code",
   "execution_count": 28,
   "id": "67e05575",
   "metadata": {
    "execution": {
     "iopub.execute_input": "2022-08-17T21:02:49.305716Z",
     "iopub.status.busy": "2022-08-17T21:02:49.303378Z",
     "iopub.status.idle": "2022-08-17T21:02:50.058113Z",
     "shell.execute_reply": "2022-08-17T21:02:50.056403Z"
    },
    "papermill": {
     "duration": 0.772383,
     "end_time": "2022-08-17T21:02:50.061150",
     "exception": false,
     "start_time": "2022-08-17T21:02:49.288767",
     "status": "completed"
    },
    "tags": []
   },
   "outputs": [],
   "source": [
    "ind=[]\n",
    "for i in range(len(y_tr)):\n",
    "    cnt=0\n",
    "    for j in y_tr[i]:\n",
    "        if j!=0:\n",
    "            cnt=cnt+1\n",
    "    if(cnt==2):\n",
    "        ind.append(i)\n",
    "\n",
    "y_tr=np.delete(y_tr,ind, axis=0)\n",
    "x_tr=np.delete(x_tr,ind, axis=0)"
   ]
  },
  {
   "cell_type": "code",
   "execution_count": 29,
   "id": "6ed2a4a7",
   "metadata": {
    "execution": {
     "iopub.execute_input": "2022-08-17T21:02:50.090666Z",
     "iopub.status.busy": "2022-08-17T21:02:50.090068Z",
     "iopub.status.idle": "2022-08-17T21:02:50.172466Z",
     "shell.execute_reply": "2022-08-17T21:02:50.170641Z"
    },
    "papermill": {
     "duration": 0.100947,
     "end_time": "2022-08-17T21:02:50.175611",
     "exception": false,
     "start_time": "2022-08-17T21:02:50.074664",
     "status": "completed"
    },
    "tags": []
   },
   "outputs": [],
   "source": [
    "ind=[]\n",
    "for i in range(len(y_val)):\n",
    "    cnt=0\n",
    "    for j in y_val[i]:\n",
    "        if j!=0:\n",
    "            cnt=cnt+1\n",
    "    if(cnt==2):\n",
    "        ind.append(i)\n",
    "\n",
    "y_val=np.delete(y_val,ind, axis=0)\n",
    "x_val=np.delete(x_val,ind, axis=0)"
   ]
  },
  {
   "cell_type": "markdown",
   "id": "4b9ceb83",
   "metadata": {
    "papermill": {
     "duration": 0.013273,
     "end_time": "2022-08-17T21:02:50.202952",
     "exception": false,
     "start_time": "2022-08-17T21:02:50.189679",
     "status": "completed"
    },
    "tags": []
   },
   "source": [
    "## Model building"
   ]
  },
  {
   "cell_type": "code",
   "execution_count": 30,
   "id": "ed10f998",
   "metadata": {
    "execution": {
     "iopub.execute_input": "2022-08-17T21:02:50.231811Z",
     "iopub.status.busy": "2022-08-17T21:02:50.231009Z",
     "iopub.status.idle": "2022-08-17T21:02:52.233881Z",
     "shell.execute_reply": "2022-08-17T21:02:52.232590Z"
    },
    "papermill": {
     "duration": 2.020579,
     "end_time": "2022-08-17T21:02:52.237671",
     "exception": false,
     "start_time": "2022-08-17T21:02:50.217092",
     "status": "completed"
    },
    "tags": []
   },
   "outputs": [
    {
     "name": "stderr",
     "output_type": "stream",
     "text": [
      "2022-08-17 21:02:50.299109: I tensorflow/core/common_runtime/process_util.cc:146] Creating new thread pool with default inter op setting: 2. Tune using inter_op_parallelism_threads for best performance.\n"
     ]
    },
    {
     "name": "stdout",
     "output_type": "stream",
     "text": [
      "Model: \"model\"\n",
      "__________________________________________________________________________________________________\n",
      "Layer (type)                    Output Shape         Param #     Connected to                     \n",
      "==================================================================================================\n",
      "input_1 (InputLayer)            [(None, 30)]         0                                            \n",
      "__________________________________________________________________________________________________\n",
      "embedding (Embedding)           (None, 30, 100)      844000      input_1[0][0]                    \n",
      "__________________________________________________________________________________________________\n",
      "lstm (LSTM)                     [(None, 30, 300), (N 481200      embedding[0][0]                  \n",
      "__________________________________________________________________________________________________\n",
      "input_2 (InputLayer)            [(None, None)]       0                                            \n",
      "__________________________________________________________________________________________________\n",
      "lstm_1 (LSTM)                   [(None, 30, 300), (N 721200      lstm[0][0]                       \n",
      "__________________________________________________________________________________________________\n",
      "embedding_1 (Embedding)         (None, None, 100)    198900      input_2[0][0]                    \n",
      "__________________________________________________________________________________________________\n",
      "lstm_2 (LSTM)                   [(None, 30, 300), (N 721200      lstm_1[0][0]                     \n",
      "__________________________________________________________________________________________________\n",
      "lstm_3 (LSTM)                   [(None, None, 300),  481200      embedding_1[0][0]                \n",
      "                                                                 lstm_2[0][1]                     \n",
      "                                                                 lstm_2[0][2]                     \n",
      "__________________________________________________________________________________________________\n",
      "attention_layer (AttentionLayer ((None, None, 300),  180300      lstm_2[0][0]                     \n",
      "                                                                 lstm_3[0][0]                     \n",
      "__________________________________________________________________________________________________\n",
      "concat_layer (Concatenate)      (None, None, 600)    0           lstm_3[0][0]                     \n",
      "                                                                 attention_layer[0][0]            \n",
      "__________________________________________________________________________________________________\n",
      "time_distributed (TimeDistribut (None, None, 1989)   1195389     concat_layer[0][0]               \n",
      "==================================================================================================\n",
      "Total params: 4,823,389\n",
      "Trainable params: 4,823,389\n",
      "Non-trainable params: 0\n",
      "__________________________________________________________________________________________________\n"
     ]
    }
   ],
   "source": [
    "from keras import backend as K \n",
    "K.clear_session()\n",
    "\n",
    "latent_dim = 300\n",
    "embedding_dim=100\n",
    "\n",
    "# Encoder\n",
    "encoder_inputs = Input(shape=(max_text_len,))\n",
    "\n",
    "#embedding layer\n",
    "enc_emb =  Embedding(x_voc, embedding_dim,trainable=True)(encoder_inputs)\n",
    "\n",
    "#encoder lstm 1\n",
    "encoder_lstm1 = LSTM(latent_dim,return_sequences=True,return_state=True,dropout=0.4,recurrent_dropout=0.4)\n",
    "encoder_output1, state_h1, state_c1 = encoder_lstm1(enc_emb)\n",
    "\n",
    "#encoder lstm 2\n",
    "encoder_lstm2 = LSTM(latent_dim,return_sequences=True,return_state=True,dropout=0.4,recurrent_dropout=0.4)\n",
    "encoder_output2, state_h2, state_c2 = encoder_lstm2(encoder_output1)\n",
    "\n",
    "#encoder lstm 3\n",
    "encoder_lstm3=LSTM(latent_dim, return_state=True, return_sequences=True,dropout=0.4,recurrent_dropout=0.4)\n",
    "encoder_outputs, state_h, state_c= encoder_lstm3(encoder_output2)\n",
    "\n",
    "# Set up the decoder, using `encoder_states` as initial state.\n",
    "decoder_inputs = Input(shape=(None,))\n",
    "\n",
    "#embedding layer\n",
    "dec_emb_layer = Embedding(y_voc, embedding_dim,trainable=True)\n",
    "dec_emb = dec_emb_layer(decoder_inputs)\n",
    "\n",
    "decoder_lstm = LSTM(latent_dim, return_sequences=True, return_state=True,dropout=0.4,recurrent_dropout=0.2)\n",
    "decoder_outputs,decoder_fwd_state, decoder_back_state = decoder_lstm(dec_emb,initial_state=[state_h, state_c])\n",
    "\n",
    "# Attention layer\n",
    "attn_layer = AttentionLayer(name='attention_layer')\n",
    "attn_out, attn_states = attn_layer([encoder_outputs, decoder_outputs])\n",
    "\n",
    "# Concat attention input and decoder LSTM output\n",
    "decoder_concat_input = Concatenate(axis=-1, name='concat_layer')([decoder_outputs, attn_out])\n",
    "\n",
    "#dense layer\n",
    "decoder_dense =  TimeDistributed(Dense(y_voc, activation='softmax'))\n",
    "decoder_outputs = decoder_dense(decoder_concat_input)\n",
    "\n",
    "# Define the model \n",
    "model = Model([encoder_inputs, decoder_inputs], decoder_outputs)\n",
    "\n",
    "model.summary() "
   ]
  },
  {
   "cell_type": "code",
   "execution_count": 31,
   "id": "446425a9",
   "metadata": {
    "execution": {
     "iopub.execute_input": "2022-08-17T21:02:52.266531Z",
     "iopub.status.busy": "2022-08-17T21:02:52.266110Z",
     "iopub.status.idle": "2022-08-17T21:02:52.283005Z",
     "shell.execute_reply": "2022-08-17T21:02:52.281642Z"
    },
    "papermill": {
     "duration": 0.034044,
     "end_time": "2022-08-17T21:02:52.286074",
     "exception": false,
     "start_time": "2022-08-17T21:02:52.252030",
     "status": "completed"
    },
    "tags": []
   },
   "outputs": [],
   "source": [
    "model.compile(optimizer='rmsprop', loss='sparse_categorical_crossentropy')"
   ]
  },
  {
   "cell_type": "code",
   "execution_count": 32,
   "id": "1eb4085a",
   "metadata": {
    "execution": {
     "iopub.execute_input": "2022-08-17T21:02:52.314787Z",
     "iopub.status.busy": "2022-08-17T21:02:52.314331Z",
     "iopub.status.idle": "2022-08-17T21:02:52.320861Z",
     "shell.execute_reply": "2022-08-17T21:02:52.319132Z"
    },
    "papermill": {
     "duration": 0.024869,
     "end_time": "2022-08-17T21:02:52.323520",
     "exception": false,
     "start_time": "2022-08-17T21:02:52.298651",
     "status": "completed"
    },
    "tags": []
   },
   "outputs": [],
   "source": [
    "es = EarlyStopping(monitor='val_loss', mode='min', verbose=1,patience=2)"
   ]
  },
  {
   "cell_type": "code",
   "execution_count": 33,
   "id": "daffe0b6",
   "metadata": {
    "execution": {
     "iopub.execute_input": "2022-08-17T21:02:52.349732Z",
     "iopub.status.busy": "2022-08-17T21:02:52.349274Z",
     "iopub.status.idle": "2022-08-17T23:33:06.854970Z",
     "shell.execute_reply": "2022-08-17T23:33:06.853882Z"
    },
    "papermill": {
     "duration": 9014.861222,
     "end_time": "2022-08-17T23:33:07.196853",
     "exception": false,
     "start_time": "2022-08-17T21:02:52.335631",
     "status": "completed"
    },
    "tags": []
   },
   "outputs": [
    {
     "name": "stderr",
     "output_type": "stream",
     "text": [
      "2022-08-17 21:02:52.434805: I tensorflow/compiler/mlir/mlir_graph_optimization_pass.cc:185] None of the MLIR Optimization Passes are enabled (registered 2)\n"
     ]
    },
    {
     "name": "stdout",
     "output_type": "stream",
     "text": [
      "Epoch 1/50\n",
      "324/324 [==============================] - 626s 2s/step - loss: 2.8242 - val_loss: 2.6070\n",
      "Epoch 2/50\n",
      "324/324 [==============================] - 605s 2s/step - loss: 2.4952 - val_loss: 2.4945\n",
      "Epoch 3/50\n",
      "324/324 [==============================] - 589s 2s/step - loss: 2.3484 - val_loss: 2.3645\n",
      "Epoch 4/50\n",
      "324/324 [==============================] - 587s 2s/step - loss: 2.2480 - val_loss: 2.2569\n",
      "Epoch 5/50\n",
      "324/324 [==============================] - 586s 2s/step - loss: 2.1738 - val_loss: 2.2248\n",
      "Epoch 6/50\n",
      "324/324 [==============================] - 556s 2s/step - loss: 2.1116 - val_loss: 2.1541\n",
      "Epoch 7/50\n",
      "324/324 [==============================] - 541s 2s/step - loss: 2.0609 - val_loss: 2.1278\n",
      "Epoch 8/50\n",
      "324/324 [==============================] - 552s 2s/step - loss: 2.0147 - val_loss: 2.1125\n",
      "Epoch 9/50\n",
      "324/324 [==============================] - 542s 2s/step - loss: 1.9740 - val_loss: 2.0978\n",
      "Epoch 10/50\n",
      "324/324 [==============================] - 548s 2s/step - loss: 1.9374 - val_loss: 2.1025\n",
      "Epoch 11/50\n",
      "324/324 [==============================] - 551s 2s/step - loss: 1.9047 - val_loss: 2.0767\n",
      "Epoch 12/50\n",
      "324/324 [==============================] - 547s 2s/step - loss: 1.8714 - val_loss: 2.0643\n",
      "Epoch 13/50\n",
      "324/324 [==============================] - 545s 2s/step - loss: 1.8429 - val_loss: 2.0532\n",
      "Epoch 14/50\n",
      "324/324 [==============================] - 549s 2s/step - loss: 1.8144 - val_loss: 2.0462\n",
      "Epoch 15/50\n",
      "324/324 [==============================] - 545s 2s/step - loss: 1.7876 - val_loss: 2.0575\n",
      "Epoch 16/50\n",
      "324/324 [==============================] - 546s 2s/step - loss: 1.7611 - val_loss: 2.0585\n",
      "Epoch 00016: early stopping\n"
     ]
    }
   ],
   "source": [
    "history=model.fit([x_tr,y_tr[:,:-1]], y_tr.reshape(y_tr.shape[0],y_tr.shape[1], 1)[:,1:] ,epochs=50,callbacks=[es],batch_size=128, validation_data=([x_val,y_val[:,:-1]], y_val.reshape(y_val.shape[0],y_val.shape[1], 1)[:,1:]))\n"
   ]
  },
  {
   "cell_type": "markdown",
   "id": "eded542e",
   "metadata": {
    "papermill": {
     "duration": 0.336836,
     "end_time": "2022-08-17T23:33:07.873685",
     "exception": false,
     "start_time": "2022-08-17T23:33:07.536849",
     "status": "completed"
    },
    "tags": []
   },
   "source": [
    "## Diagnostic plot"
   ]
  },
  {
   "cell_type": "code",
   "execution_count": 34,
   "id": "8b84743f",
   "metadata": {
    "execution": {
     "iopub.execute_input": "2022-08-17T23:33:08.626899Z",
     "iopub.status.busy": "2022-08-17T23:33:08.626431Z",
     "iopub.status.idle": "2022-08-17T23:33:34.839432Z",
     "shell.execute_reply": "2022-08-17T23:33:34.838117Z"
    },
    "papermill": {
     "duration": 26.634999,
     "end_time": "2022-08-17T23:33:34.842606",
     "exception": false,
     "start_time": "2022-08-17T23:33:08.207607",
     "status": "completed"
    },
    "tags": []
   },
   "outputs": [
    {
     "data": {
      "image/png": "[encoded data removed]",
      "text/plain": [
       "<Figure size 432x288 with 1 Axes>"
      ]
     },
     "metadata": {
      "needs_background": "light"
     },
     "output_type": "display_data"
    }
   ],
   "source": [
    "from matplotlib import pyplot\n",
    "pyplot.plot(history.history['loss'], label='train')\n",
    "pyplot.plot(history.history['val_loss'], label='test')\n",
    "pyplot.legend()\n",
    "pyplot.show()"
   ]
  },
  {
   "cell_type": "code",
   "execution_count": 35,
   "id": "63a9eed7",
   "metadata": {
    "execution": {
     "iopub.execute_input": "2022-08-17T23:33:35.516447Z",
     "iopub.status.busy": "2022-08-17T23:33:35.515678Z",
     "iopub.status.idle": "2022-08-17T23:33:35.521189Z",
     "shell.execute_reply": "2022-08-17T23:33:35.520177Z"
    },
    "papermill": {
     "duration": 0.343608,
     "end_time": "2022-08-17T23:33:35.523617",
     "exception": false,
     "start_time": "2022-08-17T23:33:35.180009",
     "status": "completed"
    },
    "tags": []
   },
   "outputs": [],
   "source": [
    "reverse_target_word_index=y_tokenizer.index_word\n",
    "reverse_source_word_index=x_tokenizer.index_word\n",
    "target_word_index=y_tokenizer.word_index"
   ]
  },
  {
   "cell_type": "markdown",
   "id": "5b7fc7fa",
   "metadata": {
    "papermill": {
     "duration": 0.336316,
     "end_time": "2022-08-17T23:33:36.193957",
     "exception": false,
     "start_time": "2022-08-17T23:33:35.857641",
     "status": "completed"
    },
    "tags": []
   },
   "source": [
    "## Inference for the encoder and decoder"
   ]
  },
  {
   "cell_type": "code",
   "execution_count": 36,
   "id": "13fe6805",
   "metadata": {
    "execution": {
     "iopub.execute_input": "2022-08-17T23:33:36.868492Z",
     "iopub.status.busy": "2022-08-17T23:33:36.867677Z",
     "iopub.status.idle": "2022-08-17T23:33:37.144979Z",
     "shell.execute_reply": "2022-08-17T23:33:37.143685Z"
    },
    "papermill": {
     "duration": 0.615018,
     "end_time": "2022-08-17T23:33:37.147935",
     "exception": false,
     "start_time": "2022-08-17T23:33:36.532917",
     "status": "completed"
    },
    "tags": []
   },
   "outputs": [],
   "source": [
    "# Encode the input sequence to get the feature vector\n",
    "encoder_model = Model(inputs=encoder_inputs,outputs=[encoder_outputs, state_h, state_c])\n",
    "\n",
    "# Decoder setup\n",
    "# Below tensors will hold the states of the previous time step\n",
    "decoder_state_input_h = Input(shape=(latent_dim,))\n",
    "decoder_state_input_c = Input(shape=(latent_dim,))\n",
    "decoder_hidden_state_input = Input(shape=(max_text_len,latent_dim))\n",
    "\n",
    "# Get the embeddings of the decoder sequence\n",
    "dec_emb2= dec_emb_layer(decoder_inputs) \n",
    "# To predict the next word in the sequence, set the initial states to the states from the previous time step\n",
    "decoder_outputs2, state_h2, state_c2 = decoder_lstm(dec_emb2, initial_state=[decoder_state_input_h, decoder_state_input_c])\n",
    "\n",
    "#attention inference\n",
    "attn_out_inf, attn_states_inf = attn_layer([decoder_hidden_state_input, decoder_outputs2])\n",
    "decoder_inf_concat = Concatenate(axis=-1, name='concat')([decoder_outputs2, attn_out_inf])\n",
    "\n",
    "# A dense softmax layer to generate prob dist. over the target vocabulary\n",
    "decoder_outputs2 = decoder_dense(decoder_inf_concat) \n",
    "\n",
    "# Final decoder model\n",
    "decoder_model = Model(\n",
    "    [decoder_inputs] + [decoder_hidden_state_input,decoder_state_input_h, decoder_state_input_c],\n",
    "    [decoder_outputs2] + [state_h2, state_c2])"
   ]
  },
  {
   "cell_type": "code",
   "execution_count": 37,
   "id": "a5dd9217",
   "metadata": {
    "execution": {
     "iopub.execute_input": "2022-08-17T23:33:37.900353Z",
     "iopub.status.busy": "2022-08-17T23:33:37.899864Z",
     "iopub.status.idle": "2022-08-17T23:33:37.909136Z",
     "shell.execute_reply": "2022-08-17T23:33:37.908260Z"
    },
    "papermill": {
     "duration": 0.428151,
     "end_time": "2022-08-17T23:33:37.911578",
     "exception": false,
     "start_time": "2022-08-17T23:33:37.483427",
     "status": "completed"
    },
    "tags": []
   },
   "outputs": [],
   "source": [
    "def decode_sequence(input_seq):\n",
    "    # Encode the input as state vectors.\n",
    "    e_out, e_h, e_c = encoder_model.predict(input_seq)\n",
    "    \n",
    "    # Generate empty target sequence of length 1.\n",
    "    target_seq = np.zeros((1,1))\n",
    "    \n",
    "    # Populate the first word of target sequence with the start word.\n",
    "    target_seq[0, 0] = target_word_index['sostok']\n",
    "\n",
    "    stop_condition = False\n",
    "    decoded_sentence = ''\n",
    "    while not stop_condition:\n",
    "      \n",
    "        output_tokens, h, c = decoder_model.predict([target_seq] + [e_out, e_h, e_c])\n",
    "\n",
    "        # Sample a token\n",
    "        sampled_token_index = np.argmax(output_tokens[0, -1, :])\n",
    "        sampled_token = reverse_target_word_index[sampled_token_index]\n",
    "        \n",
    "        if(sampled_token!='eostok'):\n",
    "            decoded_sentence += ' '+sampled_token\n",
    "\n",
    "        # Exit condition: either hit max length or find stop word.\n",
    "        if (sampled_token == 'eostok'  or len(decoded_sentence.split()) >= (max_summary_len-1)):\n",
    "            stop_condition = True\n",
    "\n",
    "        # Update the target sequence (of length 1).\n",
    "        target_seq = np.zeros((1,1))\n",
    "        target_seq[0, 0] = sampled_token_index\n",
    "\n",
    "        # Update internal states\n",
    "        e_h, e_c = h, c\n",
    "\n",
    "    return decoded_sentence"
   ]
  },
  {
   "cell_type": "code",
   "execution_count": 38,
   "id": "191761c6",
   "metadata": {
    "execution": {
     "iopub.execute_input": "2022-08-17T23:33:38.585164Z",
     "iopub.status.busy": "2022-08-17T23:33:38.584483Z",
     "iopub.status.idle": "2022-08-17T23:33:38.592094Z",
     "shell.execute_reply": "2022-08-17T23:33:38.590972Z"
    },
    "papermill": {
     "duration": 0.347815,
     "end_time": "2022-08-17T23:33:38.594395",
     "exception": false,
     "start_time": "2022-08-17T23:33:38.246580",
     "status": "completed"
    },
    "tags": []
   },
   "outputs": [],
   "source": [
    "def seq2summary(input_seq):\n",
    "    newString=''\n",
    "    for i in input_seq:\n",
    "        if((i!=0 and i!=target_word_index['sostok']) and i!=target_word_index['eostok']):\n",
    "            newString=newString+reverse_target_word_index[i]+' '\n",
    "    return newString\n",
    "\n",
    "def seq2text(input_seq):\n",
    "    newString=''\n",
    "    for i in input_seq:\n",
    "        if(i!=0):\n",
    "            newString=newString+reverse_source_word_index[i]+' '\n",
    "    return newString"
   ]
  },
  {
   "cell_type": "code",
   "execution_count": 39,
   "id": "7c9c8e91",
   "metadata": {
    "execution": {
     "iopub.execute_input": "2022-08-17T23:33:39.270033Z",
     "iopub.status.busy": "2022-08-17T23:33:39.269319Z",
     "iopub.status.idle": "2022-08-17T23:34:21.834100Z",
     "shell.execute_reply": "2022-08-17T23:34:21.832128Z"
    },
    "papermill": {
     "duration": 42.908528,
     "end_time": "2022-08-17T23:34:21.836747",
     "exception": false,
     "start_time": "2022-08-17T23:33:38.928219",
     "status": "completed"
    },
    "tags": []
   },
   "outputs": [
    {
     "name": "stdout",
     "output_type": "stream",
     "text": [
      "Review: gave caffeine shakes heart anxiety attack plus tastes unbelievably bad stick coffee tea soda thanks \n",
      "Original summary: hour \n",
      "Predicted summary:  great product\n",
      "\n",
      "\n",
      "Review: got great course good belgian chocolates better \n",
      "Original summary: would like to give it stars but \n",
      "Predicted summary:  good\n",
      "\n",
      "\n",
      "Review: one best flavored coffees tried usually like flavored coffees one great serve company love \n",
      "Original summary: delicious \n",
      "Predicted summary:  great coffee\n",
      "\n",
      "\n",
      "Review: salt separate area pain makes hard regulate salt putting like salt go ahead get product \n",
      "Original summary: tastes ok packaging \n",
      "Predicted summary:  too salty\n",
      "\n",
      "\n",
      "Review: really like product super easy order online delivered much cheaper buying gas station stocking good long drives \n",
      "Original summary: turkey jerky is great \n",
      "Predicted summary:  great value\n",
      "\n",
      "\n",
      "Review: best salad dressing delivered promptly quantities last vidalia onion dressing compares made oak hill farms sometimes find costco order front door want even orders cut shipping costs \n",
      "Original summary: my favorite salad dressing \n",
      "Predicted summary:  best olive oil ever\n",
      "\n",
      "\n",
      "Review: think sitting around warehouse long time took long time send got tea tasted like cardboard red rasberry leaf tea know supposed taste like \n",
      "Original summary: stale \n",
      "Predicted summary:  not what was tea\n",
      "\n",
      "\n",
      "Review: year old cat special diet digestive problems also diabetes stopped eating usual special formula food tried different kinds catfood one liked easy digestion diabetes thank newman \n",
      "Original summary: wonderful \n",
      "Predicted summary:  my cat loves this\n",
      "\n",
      "\n",
      "Review: always perfect snack dog loves knows exactly starts ask time evening gets greenie snack thank excellent product fast delivery \n",
      "Original summary: greenies buddy treat \n",
      "Predicted summary:  great treat\n",
      "\n",
      "\n",
      "Review: dog loves tiny treats keep one car one house \n",
      "Original summary: dog loves them \n",
      "Predicted summary:  great product\n",
      "\n",
      "\n",
      "Review: liked coffee much subscribing dark rich smooth \n",
      "Original summary: makes great cup of java \n",
      "Predicted summary:  great coffee\n",
      "\n",
      "\n",
      "Review: far dog tried chicken peanut butter flavor absolutely loves love natural makes happy giving dog something healthy treats small soft big plus calories \n",
      "Original summary: love zuke mini naturals \n",
      "Predicted summary:  my dog loves these\n",
      "\n",
      "\n",
      "Review: absolutely delicious satisfy something sweet really filling great early morning time make breakfast great afternoon snack work feeling sluggish \n",
      "Original summary: protein bar \n",
      "Predicted summary:  love these\n",
      "\n",
      "\n",
      "Review: aware decaf coffee although showed search decaf cups intended purchase gift kept recipient drink caffeine favorite means \n",
      "Original summary: not decaf \n",
      "Predicted summary:  not decaf\n",
      "\n",
      "\n",
      "Review: wonderful wrote perfect iced cookie one pen writing cookies names happy ca \n",
      "Original summary: cookie \n",
      "Predicted summary:  great cookies\n",
      "\n",
      "\n",
      "Review: truffle oil quite good prefer brand france urbani italy expensive oh delicious tried black white good black bit stronger pungent event healthy alternative butter enjoy \n",
      "Original summary: delicious but not the best \n",
      "Predicted summary:  the best\n",
      "\n",
      "\n",
      "Review: enjoy coffee office split right middle loving think worth try order regularly \n",
      "Original summary: hit or miss \n",
      "Predicted summary:  great coffee\n",
      "\n",
      "\n",
      "Review: husband gluten free food several years tried several different bread mixes first actually enjoys buying amazon saves loaf \n",
      "Original summary: really good gluten free bread \n",
      "Predicted summary:  great bread\n",
      "\n",
      "\n",
      "Review: hubby eats says good snacks morning done apple flavor \n",
      "Original summary: really good nice snack \n",
      "Predicted summary:  great snack\n",
      "\n",
      "\n",
      "Review: waste money disgusting product chocolate taste tastes like plastic lining paper carton using milk treated ultra high temperatures like fresh milk go get fresh milk hershey syrup want chocolate milk \n",
      "Original summary: please do not waste your money \n",
      "Predicted summary:  not bad\n",
      "\n",
      "\n",
      "Review: absolutely loves apple chicken happy hips looks forward one morning one night gets soooo excited would eat allowed \n",
      "Original summary: healthy treats \n",
      "Predicted summary:  great treat\n",
      "\n",
      "\n",
      "Review: strong much flavor little aroma tried purchase another time similiar brands met standards expected \n",
      "Original summary: no flavor \n",
      "Predicted summary:  good coffee\n",
      "\n",
      "\n",
      "Review: company wanted chose order anyway \n",
      "Original summary: water \n",
      "Predicted summary:  not what expected\n",
      "\n",
      "\n",
      "Review: introduced number people hooked best sour gummy ever great flavors got great price \n",
      "Original summary: new favorite \n",
      "Predicted summary:  best ever\n",
      "\n",
      "\n",
      "Review: new price attractive however tastes horrible maybe old zico coconut water brands might find acceptable \n",
      "Original summary: do not be by the price \n",
      "Predicted summary:  horrible\n",
      "\n",
      "\n",
      "Review: sure ever going buy product way expensive market price \n",
      "Original summary: too expensive \n",
      "Predicted summary:  great price\n",
      "\n",
      "\n",
      "Review: flavor normally find local stores plus buy bulk things take savings add veggies even stir egg noodles cook add nutrition quick meals lot extra \n",
      "Original summary: good value \n",
      "Predicted summary:  great flavor\n",
      "\n",
      "\n",
      "Review: order tea labeled decaff must caffeine residue levels tested tea caffeine decaff non decaff tea anywhere caffeine caffeine caffeinated tea caffeine slightly less naturally present tea leaf \n",
      "Original summary: caffeine is not \n",
      "Predicted summary:  tea\n",
      "\n",
      "\n",
      "Review: excellent babies toddler really best offer little one delicious rich vitamins calcium protein low fat sorry products available website \n",
      "Original summary: excellent product for babies and toddler \n",
      "Predicted summary:  love it\n",
      "\n",
      "\n",
      "Review: purchased item dented would bet run dented product clearing ship ones \n",
      "Original summary: sometimes dented \n",
      "Predicted summary:  dented cans\n",
      "\n",
      "\n",
      "Review: almost tastes like mini blueberry pie love one favorite thoroughly fallen love \n",
      "Original summary: excellent love the blueberry pecan \n",
      "Predicted summary:  delicious\n",
      "\n",
      "\n",
      "Review: dog loves keeps busy minutes long time chew hound \n",
      "Original summary: chew away \n",
      "Predicted summary:  great product\n",
      "\n",
      "\n",
      "Review: plant came quickly looks great office nice pot plant thriving well \n",
      "Original summary: very nice office plant \n",
      "Predicted summary:  great plant\n",
      "\n",
      "\n",
      "Review: dog loves lickety stik bacon flavor since likes much plan getting flavors great liquid treat dog highly recommend lickety stik \n",
      "Original summary: great dog treat \n",
      "Predicted summary:  my dog loves them\n",
      "\n",
      "\n",
      "Review: great toy dogs chew everything else little literally eats toys one toys yet destroy loves carries around everywhere got rex cutest thing \n",
      "Original summary: good for chewers \n",
      "Predicted summary:  not for dogs\n",
      "\n",
      "\n",
      "Review: really search good deals tea tea great price tea amazon almost cup price cup coffee herbal varieties low caffine good option wife used dinner coffe \n",
      "Original summary: great price for great tea \n",
      "Predicted summary:  great tea\n",
      "\n",
      "\n",
      "Review: pricey essentially small bag hard crumbs maybe dog spoiled treats like third class treats definitely bottom doggie treat often simply walk away glad people like buying \n",
      "Original summary: waste of money \n",
      "Predicted summary:  not for\n",
      "\n",
      "\n",
      "Review: little pricey consider sugar low cal caffine really rich flavor best chai ever found \n",
      "Original summary: fabulous product \n",
      "Predicted summary:  delicious\n",
      "\n",
      "\n",
      "Review: loves taste beef freeze dried dog treats use training really works \n",
      "Original summary: dog lover \n",
      "Predicted summary:  great for training\n",
      "\n",
      "\n",
      "Review: three dogs cairn terriers year old border collie proud greenies like taste helps keep gums teeth good shape \n",
      "Original summary: our dogs love greenies \n",
      "Predicted summary:  my dogs love these\n",
      "\n",
      "\n",
      "Review: good soft drink smooth strawberry cream soda tasty \n",
      "Original summary: good stuff \n",
      "Predicted summary:  very good\n",
      "\n",
      "\n",
      "Review: item arrived sugar free shipped regular version caramel syrup small internal sticker bottle stated sugar free although company label bottle stated regular version \n",
      "Original summary: wrong item \n",
      "Predicted summary:  not\n",
      "\n",
      "\n",
      "Review: like strong coffee coffee rated found weak sickening taste \n",
      "Original summary: disapointed \n",
      "Predicted summary:  good coffee\n",
      "\n",
      "\n",
      "Review: saw peanut butter chocolate cereal knew try pleased eat chocolate breakfast feel guilty two kids love cereal well great eat alone favorite milk product yogurt mix homemade granola well \n",
      "Original summary: the yummy \n",
      "Predicted summary:  yummy\n",
      "\n",
      "\n",
      "Review: begging time loves used buy small bottle buying every weeks since saw oz buying last lot longer gas money cheaper buy online \n",
      "Original summary: my dog loves it \n",
      "Predicted summary:  great product\n",
      "\n",
      "\n",
      "Review: true also need decent scale tried caviar recipe everything worked perfectly first try fun easy make kit comes large enough samples looks like good uses \n",
      "Original summary: great to \n",
      "Predicted summary:  great product\n",
      "\n",
      "\n",
      "Review: dog really likes treats like buy run mill treats loaded fat fillers continue buy \n",
      "Original summary: buddy biscuits \n",
      "Predicted summary:  my dog loves these\n",
      "\n",
      "\n",
      "Review: tulsi green tea great good iced tea well \n",
      "Original summary: green tea \n",
      "Predicted summary:  great tea\n",
      "\n",
      "\n",
      "Review: always put something market couple poof gone best tasting product pepsi \n",
      "Original summary: best taste \n",
      "Predicted summary:  best ever\n",
      "\n",
      "\n",
      "Review: like tomatoes fresh flavorful also come carton welcome alternative metal cans impart flavor sometimes lined plastic containing \n",
      "Original summary: yummy tomatoes good packaging \n",
      "Predicted summary:  not\n",
      "\n",
      "\n",
      "Review: great get habit forming careful bought whole case save overall versus going supermarket rich dark chocolate crisp cookie worth every penny oreo eat heart \n",
      "Original summary: delicious \n",
      "Predicted summary:  delicious\n",
      "\n",
      "\n",
      "Review: else say arrived promptly perhaps time expected expiration date like next day good go \n",
      "Original summary: baby loves it \n",
      "Predicted summary:  good but\n",
      "\n",
      "\n",
      "Review: bought local recently advertised cheesy flavor detectable product even salt flavor avoid product \n",
      "Original summary: no cheese flavor \n",
      "Predicted summary:  too salty\n",
      "\n",
      "\n",
      "Review: big volume coffee morning one great \n",
      "Original summary: great morning coffee \n",
      "Predicted summary:  great coffee\n",
      "\n",
      "\n",
      "Review: drank try keep awake fell asleep minutes drinking feel anything \n",
      "Original summary: it made me fall \n",
      "Predicted summary:  great taste\n",
      "\n",
      "\n",
      "Review: drink cups day verona italian french roast coffee wanted try lower acid version brand coffee smells tastes like vinegar totally unpalatable better drinking water acid coffee bothers \n",
      "Original summary: single worst coffee ever \n",
      "Predicted summary:  great coffee\n",
      "\n",
      "\n",
      "Review: getting price however afraid stocking anymore reduced price think one trying eat crackers low calorie string cheese breakfast every total calories put breakfast baggie go \n",
      "Original summary: am addicted to these \n",
      "Predicted summary:  great cookies\n",
      "\n",
      "\n",
      "Review: first time using fondarific fondant general one really easy use baby shower cake worked indicated also colored made two tier cake final product looked great greasy \n",
      "Original summary: easy to use \n",
      "Predicted summary:  great product\n",
      "\n",
      "\n",
      "Review: work home drink cups cup coffee day good tasting coffee lowest price cup market \n",
      "Original summary: great coffee great price \n",
      "Predicted summary:  great coffee\n",
      "\n",
      "\n",
      "Review: guys say natural really tastes great pleasantly surprised stand flavor carbonated think would even better product time come fed sweet juices aftertaste make obvious really natural switch really gets vote \n",
      "Original summary: great taste all natural \n",
      "Predicted summary:  delicious\n",
      "\n",
      "\n",
      "Review: product good goes long way quite good one dd good product less \n",
      "Original summary: very good \n",
      "Predicted summary:  good value\n",
      "\n",
      "\n",
      "Review: tea wonderful soothing even soothing get shipped house found hard find decaffeinated tea grocery store much easier \n",
      "Original summary: decaffeinated french vanilla tea yummy \n",
      "Predicted summary:  great tea\n",
      "\n",
      "\n",
      "Review: wow little calorie espresso sugar serve cold delicious little shot espresso sugar overly sweet sugar helps offset taste espresso caffe bitter sweet tastes good really gave afternoon kick pants \n",
      "Original summary: nice little pick me up \n",
      "Predicted summary:  great taste\n",
      "\n",
      "\n",
      "Review: mayonnaise delicious side side taste test would give hellman edge hellman richer taste \n",
      "Original summary: excellent but \n",
      "Predicted summary:  good\n",
      "\n",
      "\n",
      "Review: love medium full flavored roast smooth taste bitter acidic taste excellent coffee good value also try timothy kona good also \n",
      "Original summary: wonderful coffee \n",
      "Predicted summary:  great coffee\n",
      "\n",
      "\n",
      "Review: nice item chunks meat good gravy cat fond varieties nice little treat nonetheless think item bit pricy per ounce \n",
      "Original summary: nice but pricey \n",
      "Predicted summary:  good\n",
      "\n",
      "\n",
      "Review: bought cookies gifts open last long good make great gifts would definitely buy \n",
      "Original summary: mouth watery cookies \n",
      "Predicted summary:  great cookies\n",
      "\n",
      "\n",
      "Review: great price fast shipping best chips better ingredients less calories snack foods plus taste like real chips \n",
      "Original summary: pop chips are the best \n",
      "Predicted summary:  great chips\n",
      "\n",
      "\n",
      "Review: taco bell chipotle sauce bold flavorful tried chicken wings tacos salad made dish extremely tasty glad sampled new sauce staple condiment \n",
      "Original summary: bold flavor \n",
      "Predicted summary:  great sauce\n",
      "\n",
      "\n",
      "Review: bought seeds make centerpieces really surprised fast grow planted seeds potting soil without ny preparation anything kept watering days super tall ready displayed centerpieces perfect \n",
      "Original summary: perfect for in days \n",
      "Predicted summary:  great seeds\n",
      "\n",
      "\n",
      "Review: every time need sun dried tomatoes local grocery stores conveniently small pouches ensure always hand called recipe \n",
      "Original summary: sun dried tomato bliss \n",
      "Predicted summary:  great product\n",
      "\n",
      "\n",
      "Review: love soup eat plain use recipe cannot find area glad amazon \n",
      "Original summary: soup chicken cheese \n",
      "Predicted summary:  soup\n",
      "\n",
      "\n",
      "Review: size quite good dog training smell strong cannot put open bag must seal everytime gave treat otherwise dog stand trying fetch believe taste great puppy purchase sure \n",
      "Original summary: strong smell and my puppy loves it \n",
      "Predicted summary:  my dog loves these\n",
      "\n",
      "\n",
      "Review: love chips auto order every months taste great whole bag calories bag every day sure helped weight loss little bags eat huge amount \n",
      "Original summary: great purchase \n",
      "Predicted summary:  love these chips\n",
      "\n",
      "\n",
      "Review: many kit wines cost three four times made many kits find fine table wine recommend adding water five gallon mark flavor \n",
      "Original summary: good wine \n",
      "Predicted summary:  good but not great\n",
      "\n",
      "\n",
      "Review: sooo much pepper heavy salt reminds adams trick food cannot eat seriously fresh nuts seasoned \n",
      "Original summary: over the top seasoning \n",
      "Predicted summary:  great licorice\n",
      "\n",
      "\n",
      "Review: loved brand best vanilla flavor others tried would buy better price \n",
      "Original summary: wolfgang puck coffee vanilla \n",
      "Predicted summary:  great coffee\n",
      "\n",
      "\n",
      "Review: another brand cinammon carried amazon much better tasting brand maybe packaging part problem simple plastic bag tie amazon brand comes carefully set plastic box \n",
      "Original summary: edible have had much better \n",
      "Predicted summary:  not the best\n",
      "\n",
      "\n",
      "Review: throw pack one actually taste bad especially compared orange tangerine like carbonation adds juice flavors need work switch drinks best worst watermelon strawberry kiwi berry black cherry orange tangerine \n",
      "Original summary: my favorite of the four tried \n",
      "Predicted summary:  not for me\n",
      "\n",
      "\n",
      "Review: daughter drinking since months old months old still loves snack time healthy delicious great addition menu \n",
      "Original summary: great snack \n",
      "Predicted summary:  great snack\n",
      "\n",
      "\n",
      "Review: live guinea africa order products delivered boat every months sometimes disappointed time zero calories zero carbs taste great price zero delivery costs prime ordered different flavors one favorite love \n",
      "Original summary: love it \n",
      "Predicted summary:  love it\n",
      "\n",
      "\n",
      "Review: purchased larger size love size perfect keep purse snack especially times others dessert snack cannot eat must gluten free spouse touch diet food loves \n",
      "Original summary: cannot get enough \n",
      "Predicted summary:  great snack\n",
      "\n",
      "\n",
      "Review: always house drink favorite mix sprite oh good every day mind larger bottles use much bring \n",
      "Original summary: am an adult still love this \n",
      "Predicted summary:  great taste\n",
      "\n",
      "\n",
      "Review: ginger snaps overpowering ginger go great milk really enjoyed house great buy affordable compared alternative diet foods last least week store well \n",
      "Original summary: you can eat ginger again \n",
      "Predicted summary:  great product\n",
      "\n",
      "\n",
      "Review: give squid one star use might thoroughly disappointed quite possibly call crazy \n",
      "Original summary: can for your \n",
      "Predicted summary:  not\n",
      "\n",
      "\n",
      "Review: quality seeds excellent begin germinate hours days ready use never sprouted seeds results good easily recommend sprouter whether human consumption four legged friends \n",
      "Original summary: wheat grass seeds \n",
      "Predicted summary:  good seeds\n",
      "\n",
      "\n",
      "Review: love stuff great store bought homemade baked goods kicking things professional level works colored dark light frosting also used dusting powdered sugar pretty fine texture \n",
      "Original summary: fun like dust \n",
      "Predicted summary:  delicious\n",
      "\n",
      "\n",
      "Review: bought jumbo greenies black lab loved way expensive regular use notice difference breath primary reason buying \n",
      "Original summary: jumbo greenies good but very expensive \n",
      "Predicted summary:  greenies\n",
      "\n",
      "\n",
      "Review: also bought costco per box included bags oz kids fighting remaining bags good buying due price high price prevent product reaching mass distribution \n",
      "Original summary: very good but too pricey \n",
      "Predicted summary:  good but pricey\n",
      "\n",
      "\n",
      "Review: originally found mints whole foods taste superb get lot money plus comes cute little tin uses dog loves go organic \n",
      "Original summary: wonderful \n",
      "Predicted summary:  great product\n",
      "\n",
      "\n",
      "Review: regular spam awful almost inedible would give tastes like animal know mean fellow spam turkey spam pretty good great would give worth try \n",
      "Original summary: better than regular \n",
      "Predicted summary:  not bad\n",
      "\n",
      "\n",
      "Review: really need know many cans also whitefish tuna buffet canned cat food thanks \n",
      "Original summary: need to know how many in case \n",
      "Predicted summary:  great product\n",
      "\n",
      "\n",
      "Review: great tasting rich flavor perfect making nice hot cup mocha bought test hershey syrup mocha incredible distinct taste difference noticeable much richer tastes like chocolate less sugary hershey syrup \n",
      "Original summary: great taste \n",
      "Predicted summary:  great flavor\n",
      "\n",
      "\n",
      "Review: number one japan number one great save get shipped automatically every month lugging car \n",
      "Original summary: great tea \n",
      "Predicted summary:  great value\n",
      "\n",
      "\n",
      "Review: bought item read best mayo sold yes even better worlds favorite hellman well review good bit better hellman fact put empty hellman jar said nothing family never knew difference \n",
      "Original summary: blue mayo \n",
      "Predicted summary:  the best\n",
      "\n",
      "\n",
      "Review: gum great makes car smell good leave refreshing sweet tart smooth \n",
      "Original summary: love the gum and the price \n",
      "Predicted summary:  love this stuff\n",
      "\n",
      "\n",
      "Review: flavorful smells like heaven great price compared stores arrived fast \n",
      "Original summary: divine \n",
      "Predicted summary:  great product\n",
      "\n",
      "\n",
      "Review: love low calorie organic doctors recommend grams fiber daily smart bran grams per serving fruits veggies set day eat dry vanilla frozen yogurt cinnamon \n",
      "Original summary: yes to smart bran \n",
      "Predicted summary:  love these\n",
      "\n",
      "\n",
      "Review: found spice blend dallas years back tell restaurant using grilled shrimp like cajun spice grilling fish recommend store dry place replace every year least lose flavor \n",
      "Original summary: good stuff \n",
      "Predicted summary:  great product\n",
      "\n",
      "\n",
      "Review: plain riceselect couscous delicious easy quick prepare great side item base main course far found bad product riceselect \n",
      "Original summary: yummy \n",
      "Predicted summary:  delicious\n",
      "\n",
      "\n"
     ]
    }
   ],
   "source": [
    "for i in range(0,100):\n",
    "    print(\"Review:\",seq2text(x_tr[i]))\n",
    "    print(\"Original summary:\",seq2summary(y_tr[i]))\n",
    "    print(\"Predicted summary:\",decode_sequence(x_tr[i].reshape(1,max_text_len)))\n",
    "    print(\"\\n\")"
   ]
  }
 ],
 "metadata": {
  "kernelspec": {
   "display_name": "Python 3",
   "language": "python",
   "name": "python3"
  },
  "language_info": {
   "codemirror_mode": {
    "name": "ipython",
    "version": 3
   },
   "file_extension": ".py",
   "mimetype": "text/x-python",
   "name": "python",
   "nbconvert_exporter": "python",
   "pygments_lexer": "ipython3",
   "version": "3.7.12"
  },
  "papermill": {
   "default_parameters": {},
   "duration": 9193.632108,
   "end_time": "2022-08-17T23:34:25.261718",
   "environment_variables": {},
   "exception": null,
   "input_path": "__notebook__.ipynb",
   "output_path": "__notebook__.ipynb",
   "parameters": {},
   "start_time": "2022-08-17T21:01:11.629610",
   "version": "2.3.4"
  }
 },
 "nbformat": 4,
 "nbformat_minor": 5
}
